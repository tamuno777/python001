{
 "cells": [
  {
   "cell_type": "code",
   "execution_count": 1,
   "metadata": {},
   "outputs": [],
   "source": [
    "class person:\n",
    "    attr1='simeon'\n",
    "    attr2='vote'\n",
    "obj = person()\n",
    "    \n",
    "    \n",
    "    "
   ]
  },
  {
   "cell_type": "code",
   "execution_count": 2,
   "metadata": {},
   "outputs": [
    {
     "data": {
      "text/plain": [
       "'simeon'"
      ]
     },
     "execution_count": 2,
     "metadata": {},
     "output_type": "execute_result"
    }
   ],
   "source": [
    "obj.attr1"
   ]
  },
  {
   "cell_type": "code",
   "execution_count": 11,
   "metadata": {},
   "outputs": [],
   "source": [
    "class person:\n",
    "    def __init__(self,name,color,height,weight):\n",
    "        self.name=name\n",
    "        self.color=color\n",
    "        self.height=height\n",
    "        self.weight=weight  #init is only for the attribute\n",
    "    def talk(self):        #method\n",
    "        print(f'my name is {self.name}')\n",
    "    def vote(self,age):    #method\n",
    "        if age >=18:\n",
    "            print('hey you are eligible to vote')\n",
    "        else:\n",
    "            print('opps you are not eligible to vote')\n",
    "            \n",
    "person1 = person('simon','fair',1.82,69) #assign variables to the object(attribute) created"
   ]
  },
  {
   "cell_type": "code",
   "execution_count": 12,
   "metadata": {},
   "outputs": [
    {
     "name": "stdout",
     "output_type": "stream",
     "text": [
      "my name is simon\n",
      "None\n",
      "hey you are eligible to vote\n",
      "None\n"
     ]
    }
   ],
   "source": [
    "print(person1.talk())\n",
    "print(person1.vote(45))"
   ]
  },
  {
   "cell_type": "code",
   "execution_count": 15,
   "metadata": {},
   "outputs": [],
   "source": [
    "class cargame:\n",
    "    def __init__(self,brand,model,color,year,speed):\n",
    "        self.brand=brand\n",
    "        self.model=model\n",
    "        self.color=color\n",
    "        self.year=year\n",
    "        self.speed=speed\n",
    "    def start (self):\n",
    "        print('please tap START to start the engine')\n",
    "    def gear (self,D):\n",
    "        if D == 1:\n",
    "            print('drive one,speed limit=20')\n",
    "        elif D == 2:\n",
    "            print('Drive two, speed limit=50')\n",
    "        elif D == 3:\n",
    "            print('Drive three, speed limit=80')\n",
    "        elif D == 4:\n",
    "            print('Drive four, no speed limit')\n",
    "        elif D == 5:\n",
    "            print('Drive five, PARK CAR')\n",
    "        elif D == 6:\n",
    "            print('Drive six, REVERSE CAR')\n",
    "        else:\n",
    "            print('please select gear')\n",
    "    def nitro(self,tap):\n",
    "        if tap == 1:\n",
    "            print('NITRO activated')\n",
    "        elif tap == 2:\n",
    "            print('NITRO disengaged')\n",
    "        else:\n",
    "            print('earn more points to activate nitro')\n",
    "    def stop(self):\n",
    "        print('double tap start botton to activate break')\n",
    "               \n",
    "cargame1= cargame('AUDI','S30','BLACK',2019,'300km/hr')"
   ]
  },
  {
   "cell_type": "code",
   "execution_count": 16,
   "metadata": {},
   "outputs": [
    {
     "name": "stdout",
     "output_type": "stream",
     "text": [
      "please tap START to start the engine\n",
      "None\n",
      "Drive four, no speed limit\n",
      "None\n",
      "NITRO disengaged\n",
      "None\n",
      "double tap start botton to activate break\n",
      "None\n"
     ]
    }
   ],
   "source": [
    "print(cargame1.start())\n",
    "print(cargame1.gear(4))\n",
    "print(cargame1.nitro(2))\n",
    "print(cargame1.stop())"
   ]
  },
  {
   "cell_type": "code",
   "execution_count": 22,
   "metadata": {},
   "outputs": [],
   "source": [
    "class cargame2(cargame):\n",
    "    def openroof(self,choice):\n",
    "        if choice == 1:\n",
    "            print('roof is open')\n",
    "        elif choice == 2:\n",
    "            print('roof is closed')\n",
    "cargame2 = cargame2('AUDI','Z40','RED',2020,'250km/hr')\n"
   ]
  },
  {
   "cell_type": "code",
   "execution_count": 23,
   "metadata": {},
   "outputs": [
    {
     "name": "stdout",
     "output_type": "stream",
     "text": [
      "please tap START to start the engine\n",
      "None\n",
      "Drive four, no speed limit\n",
      "None\n",
      "NITRO disengaged\n",
      "None\n",
      "double tap start botton to activate break\n",
      "None\n"
     ]
    }
   ],
   "source": [
    "print(cargame2.start())\n",
    "print(cargame2.gear(4))\n",
    "print(cargame2.nitro(2))\n",
    "print(cargame2.stop())"
   ]
  },
  {
   "cell_type": "code",
   "execution_count": null,
   "metadata": {},
   "outputs": [],
   "source": []
  }
 ],
 "metadata": {
  "kernelspec": {
   "display_name": "Python 3",
   "language": "python",
   "name": "python3"
  },
  "language_info": {
   "codemirror_mode": {
    "name": "ipython",
    "version": 3
   },
   "file_extension": ".py",
   "mimetype": "text/x-python",
   "name": "python",
   "nbconvert_exporter": "python",
   "pygments_lexer": "ipython3",
   "version": "3.8.5"
  }
 },
 "nbformat": 4,
 "nbformat_minor": 4
}
