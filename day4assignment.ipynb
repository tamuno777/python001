{
 "cells": [
  {
   "cell_type": "code",
   "execution_count": 4,
   "metadata": {},
   "outputs": [
    {
     "name": "stdout",
     "output_type": "stream",
     "text": [
      "please provide your salary:1000\n",
      "please provide your year of service:6\n",
      "your year of service is 6 which is greater than the requirement,therefore you qualify for the 5% bonus and your net bonus salary is 1005.0\n"
     ]
    }
   ],
   "source": [
    "num1 = int(input('please provide your salary:'))\n",
    "num2 = int(input('please provide your year of service:'))\n",
    "\n",
    "bonus = num1 * 5/1000\n",
    "netamount = bonus + num1\n",
    "if num2 >= 5 :\n",
    "    print(f'your year of service is {num2} which is greater than the requirement,therefore you qualify for the 5% bonus and your net bonus salary is {netamount}')\n",
    "else:\n",
    "      print(f'your year of service is {num2} which is less than the requirement,therefore you do not qualify for the 5% bonus')"
   ]
  },
  {
   "cell_type": "code",
   "execution_count": 63,
   "metadata": {},
   "outputs": [
    {
     "name": "stdout",
     "output_type": "stream",
     "text": [
      "please provide a number:20\n",
      "please provide a number:30\n",
      "30 is the greatest among the provided number by user\n"
     ]
    }
   ],
   "source": [
    "user1 = int(input('please provide a number:'))\n",
    "user2 = int(input('please provide a number:'))\n",
    "\n",
    "if user1 > user2 :\n",
    "    print(f'{user1} is the greatest among the provided number by user')\n",
    "else:\n",
    "    print(f'{user2} is the greatest among the provided number by user')"
   ]
  },
  {
   "cell_type": "code",
   "execution_count": 60,
   "metadata": {},
   "outputs": [
    {
     "name": "stdout",
     "output_type": "stream",
     "text": [
      "please provide roses age:2\n",
      "please provide  judes age:2\n",
      "please provide mercys age:4\n",
      "mercy is the oldest amongs rose,mercy and jude while\n",
      "rose and jude are the youngest among rose ,mercy and jude\n"
     ]
    }
   ],
   "source": [
    "input1 = int(input('please provide roses age:'))\n",
    "input2 = int(input('please provide  judes age:'))\n",
    "input3 = int(input('please provide mercys age:'))\n",
    "\n",
    "if input1 > input2 and input3 :\n",
    "    print(f'rose is the oldest amongs rose,mercy and jude while')\n",
    "elif input2 > input1 and input3 :\n",
    "    print(f'jude is the oldest amongs rose,mercy and jude while')\n",
    "elif input3 > input2 and input1 :\n",
    "    print(f'mercy is the oldest amongs rose,mercy and jude while')\n",
    "\n",
    "    \n",
    "if input1 < input2 and input3 :\n",
    "    print(f'rose is the youngest amongs rose,mercy and jude')\n",
    "elif input2 < input1 and input3 :\n",
    "    print(f'jude is the youngest amongs rose,mercy and jude')\n",
    "elif input3 < input2 and input1 :\n",
    "    print(f'mercy is the youngest amongs rose,mercy and jude')\n",
    "\n",
    "if input1 == input2 and input1 > input3:\n",
    "    print(f'rose and jude are the oldest among rose,mercy and jude')\n",
    "elif input1 == input3 and input1 > input2:\n",
    "          print(f'rose and mercy are the oldest among rose ,mercy and jude')\n",
    "elif input2 == input3 and inpute2 > input1:\n",
    "          print(f'mercy and jude are the oldest among rose,mercy and jude')\n",
    "elif input1 == input2 and input1 < input3:\n",
    "          print(f'rose and jude are the youngest among rose ,mercy and jude')\n",
    "elif input2 == input3 and input2 < input1:\n",
    "          print(f'mercy and jude are the youngest among rose,mercy and jude')\n",
    "elif input1 == input3 and input1 < input2:\n",
    "          print(f'rose and mercy are the youngest among rose ,mercy and jude')\n",
    "else:\n",
    "    print(f'mercy,rose and jude are of the same age')\n",
    "\n",
    "\n",
    "\n",
    "\n",
    "\n"
   ]
  },
  {
   "cell_type": "markdown",
   "metadata": {},
   "source": [
    "# number4"
   ]
  },
  {
   "cell_type": "code",
   "execution_count": 51,
   "metadata": {},
   "outputs": [
    {
     "name": "stdout",
     "output_type": "stream",
     "text": [
      "number of classes held30\n",
      "number of classes attended15\n",
      "the percentage of class attended is 50.0% which is bellow the requirement,therefore he/she cannot be allowed to sit in exam\n"
     ]
    }
   ],
   "source": [
    "enter1 = int(input('number of classes held'))\n",
    "enter2 = int(input('number of classes attended'))\n",
    "\n",
    "attendance = (enter2 / enter1) * 100\n",
    "\n",
    "if attendance >= 75:\n",
    "    print(f'the percentage of class attended is {attendance}% which is above the requirement,therefore he/she can be allowed to sit in exam')\n",
    "else:\n",
    "    print(f'the percentage of class attended is {attendance}% which is bellow the requirement,therefore he/she cannot be allowed to sit in exam') "
   ]
  },
  {
   "cell_type": "code",
   "execution_count": null,
   "metadata": {},
   "outputs": [],
   "source": []
  }
 ],
 "metadata": {
  "kernelspec": {
   "display_name": "Python 3",
   "language": "python",
   "name": "python3"
  },
  "language_info": {
   "codemirror_mode": {
    "name": "ipython",
    "version": 3
   },
   "file_extension": ".py",
   "mimetype": "text/x-python",
   "name": "python",
   "nbconvert_exporter": "python",
   "pygments_lexer": "ipython3",
   "version": "3.8.5"
  }
 },
 "nbformat": 4,
 "nbformat_minor": 4
}
