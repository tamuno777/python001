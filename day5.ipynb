{
 "cells": [
  {
   "cell_type": "code",
   "execution_count": 1,
   "metadata": {},
   "outputs": [
    {
     "name": "stdout",
     "output_type": "stream",
     "text": [
      "p\n",
      "y\n",
      "t\n",
      "h\n",
      "o\n",
      "n\n"
     ]
    }
   ],
   "source": [
    "word = 'python'\n",
    "for char in word:\n",
    "    print(char)"
   ]
  },
  {
   "cell_type": "code",
   "execution_count": 2,
   "metadata": {},
   "outputs": [
    {
     "name": "stdout",
     "output_type": "stream",
     "text": [
      "pppp\n",
      "yyyy\n",
      "tttt\n",
      "hhhh\n",
      "oooo\n",
      "nnnn\n"
     ]
    }
   ],
   "source": [
    "word = 'python'\n",
    "for char in word:\n",
    "    print(char * 4)"
   ]
  },
  {
   "cell_type": "code",
   "execution_count": 6,
   "metadata": {},
   "outputs": [
    {
     "name": "stdout",
     "output_type": "stream",
     "text": [
      "pppp\n",
      "yyyy\n"
     ]
    }
   ],
   "source": [
    "word = 'python'\n",
    "for char in word:\n",
    "    if char == 'p':\n",
    "        print(char * 4)\n",
    "    elif char == 'y':\n",
    "        print(char * 4) #this tergets just one char in word"
   ]
  },
  {
   "cell_type": "code",
   "execution_count": 8,
   "metadata": {},
   "outputs": [
    {
     "name": "stdout",
     "output_type": "stream",
     "text": [
      "the squr of 25 is 5.0\n",
      "the squr of 89 is 9.433981132056603\n",
      "the squr of 74 is 8.602325267042627\n",
      "the squr of 58 is 7.615773105863909\n",
      "the squr of 20 is 4.47213595499958\n",
      "the squr of 35 is 5.916079783099616\n",
      "the squr of 40 is 6.324555320336759\n"
     ]
    }
   ],
   "source": [
    "number = [25,89,74,58,20,35,40]\n",
    "import math\n",
    "for num in number:\n",
    "    print(f'the squr of {num} is {math.sqrt(num)}')"
   ]
  },
  {
   "cell_type": "code",
   "execution_count": 10,
   "metadata": {},
   "outputs": [
    {
     "name": "stdout",
     "output_type": "stream",
     "text": [
      "james : 80\n",
      "mary : 90\n",
      "jane : 70\n",
      "sayi : 58\n",
      "winnie : 85\n"
     ]
    }
   ],
   "source": [
    "score = {\n",
    "    'james':80,\n",
    "    'mary' :90,\n",
    "    'jane' : 70,\n",
    "    'sayi' : 58,\n",
    "    'winnie' : 85\n",
    "}\n",
    "for key,value in score.items():\n",
    "    print(key,':',value)"
   ]
  },
  {
   "cell_type": "code",
   "execution_count": 12,
   "metadata": {},
   "outputs": [
    {
     "name": "stdout",
     "output_type": "stream",
     "text": [
      "james\n",
      "mary\n"
     ]
    }
   ],
   "source": [
    "score = {\n",
    "    'james':80,\n",
    "    'mary' :90,\n",
    "    'jane' : 70,\n",
    "    'sayi' : 58,\n",
    "    'winnie' : 85\n",
    "}\n",
    "for key in score:\n",
    "    if key == 'jane':\n",
    "        break # stops at jane since the condition is fulfiled\n",
    "    print(key)\n",
    "   "
   ]
  },
  {
   "cell_type": "code",
   "execution_count": 13,
   "metadata": {},
   "outputs": [
    {
     "name": "stdout",
     "output_type": "stream",
     "text": [
      "james : 80\n",
      "mary : 90\n"
     ]
    }
   ],
   "source": [
    "score = {\n",
    "    'james':80,\n",
    "    'mary' :90,\n",
    "    'jane' : 70,\n",
    "    'sayi' : 58,\n",
    "    'winnie' : 85\n",
    "}\n",
    "for key in score:\n",
    "    if key == 'jane':\n",
    "        break # stops at jane since the condition is fulfiled\n",
    "    print(key,':',score[key])"
   ]
  },
  {
   "cell_type": "code",
   "execution_count": 17,
   "metadata": {},
   "outputs": [
    {
     "name": "stdout",
     "output_type": "stream",
     "text": [
      "15\n",
      "16\n",
      "17\n",
      "18\n",
      "19\n",
      "20\n"
     ]
    }
   ],
   "source": [
    "for i in range(15,21):\n",
    "    print(i)"
   ]
  },
  {
   "cell_type": "code",
   "execution_count": 18,
   "metadata": {},
   "outputs": [
    {
     "name": "stdout",
     "output_type": "stream",
     "text": [
      "please provide a number12\n",
      "12 x 1 = 12\n",
      "12 x 2 = 24\n",
      "12 x 3 = 36\n",
      "12 x 4 = 48\n",
      "12 x 5 = 60\n",
      "12 x 6 = 72\n",
      "12 x 7 = 84\n",
      "12 x 8 = 96\n",
      "12 x 9 = 108\n",
      "12 x 10 = 120\n",
      "12 x 11 = 132\n",
      "12 x 12 = 144\n"
     ]
    }
   ],
   "source": [
    "#working on a multiplication table\n",
    "num = int(input('please provide a number'))\n",
    "for i in range(1,13):\n",
    "    print(f'{num} x {i} = {num*i}')"
   ]
  },
  {
   "cell_type": "code",
   "execution_count": 24,
   "metadata": {},
   "outputs": [],
   "source": [
    "#to generate 100 numbers using the why loop from 50-75\n",
    "import random\n",
    "number = []\n",
    "counter = 1 #check if the condition is being satisfied\n",
    "while counter <= 100:\n",
    "    num = random.randint(50,75)\n",
    "    number.append(num)\n",
    "    counter = counter + 1\n",
    "\n"
   ]
  },
  {
   "cell_type": "code",
   "execution_count": 25,
   "metadata": {},
   "outputs": [
    {
     "name": "stdout",
     "output_type": "stream",
     "text": [
      "[69, 61, 54, 51, 61, 53, 66, 70, 65, 71, 68, 54, 58, 51, 63, 64, 59, 60, 63, 72, 69, 52, 74, 68, 68, 61, 60, 67, 65, 61, 65, 52, 52, 63, 64, 51, 60, 63, 74, 68, 63, 57, 57, 52, 55, 62, 64, 56, 74, 67, 67, 72, 65, 68, 73, 55, 56, 64, 50, 62, 60, 61, 51, 70, 51, 67, 68, 51, 52, 62, 59, 56, 58, 63, 51, 66, 72, 63, 58, 63, 63, 50, 69, 75, 57, 68, 64, 65, 58, 66, 61, 58, 58, 52, 71, 74, 73, 64, 50, 61]\n"
     ]
    }
   ],
   "source": [
    "print(number)"
   ]
  },
  {
   "cell_type": "code",
   "execution_count": 26,
   "metadata": {},
   "outputs": [
    {
     "name": "stdout",
     "output_type": "stream",
     "text": [
      "player1:2\n",
      "player2:2\n",
      "it is a draw\n",
      "player1:4\n",
      "player2:6\n",
      "player2 wins\n",
      "player1:4\n",
      "player2:5\n",
      "player2 wins\n",
      "player1:2\n",
      "player2:3\n",
      "player2 wins\n",
      "player1:2\n",
      "player2:1\n",
      "player1 wins\n",
      "player1:4\n",
      "player2:6\n",
      "player2 wins\n",
      "player1:1\n",
      "player2:5\n",
      "player2 wins\n",
      "player1:1\n",
      "player2:5\n",
      "player2 wins\n",
      "player1:1\n",
      "player2:2\n",
      "player2 wins\n",
      "player1:4\n",
      "player2:1\n",
      "player1 wins\n",
      "the total point for player1 is 4\n",
      "the total point for player2 is 14\n",
      "player 2 is the overall winner\n"
     ]
    }
   ],
   "source": [
    "# dice game to run 10 times by 2 players and each winner gets 2 point\n",
    "'''\n",
    "a dice game that will be simulated 10 times for two players\n",
    "for every iteration of the game\n",
    "if player1 wins 2 point will be given\n",
    "if player2 wins wins 2 point will be given\n",
    "else if it is a draw no point will be given\n",
    "\n",
    "'''\n",
    "import random #for generating numbers for the dice\n",
    "\n",
    "\n",
    "#declearing a variable to hold the point for player1 and player2\n",
    "player_1_score = 0\n",
    "player_2_score = 0\n",
    "\n",
    "for i in range(1,11):\n",
    "    #generate dice for player1 and player2\n",
    "    player1 = random.randint(1,6)\n",
    "    player2 = random.randint(1,6)\n",
    "        \n",
    "    if player1 > player2:\n",
    "        print(f'player1:{player1}')\n",
    "        print(f'player2:{player2}')\n",
    "        print(f'player1 wins')\n",
    "        player_1_score = player_1_score + 2\n",
    "    elif player2 > player1:\n",
    "        print(f'player1:{player1}')\n",
    "        print(f'player2:{player2}')\n",
    "        print(f'player2 wins')\n",
    "        player_2_score = player_2_score + 2\n",
    "    else:\n",
    "        print(f'player1:{player1}')\n",
    "        print(f'player2:{player2}')\n",
    "        print('it is a draw')\n",
    "        \n",
    "print(f'the total point for player1 is {player_1_score}')\n",
    "print(f'the total point for player2 is {player_2_score}')\n",
    "if player_1_score > player_2_score:\n",
    "    print('player1 is the overall winner')\n",
    "elif player_2_score > player_1_score:\n",
    "    print('player 2 is the overall winner')\n",
    "else:\n",
    "    print('it is a draw')\n",
    "\n",
    "    "
   ]
  },
  {
   "cell_type": "code",
   "execution_count": null,
   "metadata": {},
   "outputs": [],
   "source": []
  }
 ],
 "metadata": {
  "kernelspec": {
   "display_name": "Python 3",
   "language": "python",
   "name": "python3"
  },
  "language_info": {
   "codemirror_mode": {
    "name": "ipython",
    "version": 3
   },
   "file_extension": ".py",
   "mimetype": "text/x-python",
   "name": "python",
   "nbconvert_exporter": "python",
   "pygments_lexer": "ipython3",
   "version": "3.8.5"
  }
 },
 "nbformat": 4,
 "nbformat_minor": 4
}
