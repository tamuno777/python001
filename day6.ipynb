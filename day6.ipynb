{
 "cells": [
  {
   "cell_type": "code",
   "execution_count": 1,
   "metadata": {},
   "outputs": [
    {
     "name": "stdout",
     "output_type": "stream",
     "text": [
      "welcome to python class\n"
     ]
    }
   ],
   "source": [
    "def greet(): #a function without a parameter or an arguement\n",
    "    print('welcome to python class')\n",
    "greet()\n",
    " "
   ]
  },
  {
   "cell_type": "code",
   "execution_count": 5,
   "metadata": {},
   "outputs": [
    {
     "name": "stdout",
     "output_type": "stream",
     "text": [
      "welcome to python class simon\n"
     ]
    }
   ],
   "source": [
    "def greet2(name): #a function with a parameter or an arguement\n",
    "    print(f'welcome to python class {name}')\n",
    "greet2('simon')"
   ]
  },
  {
   "cell_type": "code",
   "execution_count": 6,
   "metadata": {},
   "outputs": [
    {
     "name": "stdout",
     "output_type": "stream",
     "text": [
      "welcome to python class ade\n"
     ]
    }
   ],
   "source": [
    "greet2('ade') #greet2(name) function is reuseable"
   ]
  },
  {
   "cell_type": "code",
   "execution_count": 7,
   "metadata": {},
   "outputs": [
    {
     "name": "stdout",
     "output_type": "stream",
     "text": [
      "please provide your name:simon\n",
      "please provide your gender:male\n",
      "please provide your age:15\n",
      "welcom to our presidential election simon\n",
      " OPPS, you are not eligible to vote\n"
     ]
    }
   ],
   "source": [
    "def votingsys(name,gender,age):\n",
    "    print(f'welcom to our presidential election {name}')\n",
    "    \n",
    "    if age >= 18:\n",
    "        print(f'congratulations you are eligible to vote pls proceed to the po')\n",
    "    else:\n",
    "        print(f' OPPS, you are not eligible to vote')\n",
    "votingsys(input('please provide your name:'),input('please provide your gender:'),int(input('please provide your age:')))"
   ]
  },
  {
   "cell_type": "code",
   "execution_count": 9,
   "metadata": {},
   "outputs": [
    {
     "name": "stdout",
     "output_type": "stream",
     "text": [
      "welcom to our election ade\n",
      "congratulations you are eligible to vote pls proceed to the po\n"
     ]
    }
   ],
   "source": [
    "def votingsys(name,gender,age = 18):\n",
    "    print(f'welcom to our election {name}')\n",
    "    \n",
    "    if age >= 18:\n",
    "        print(f'congratulations you are eligible to vote pls proceed to the po')\n",
    "    else:\n",
    "        print(f' OPPS, you are not eligible to vote')\n",
    "        \n",
    "votingsys('ade','male')\n",
    "    "
   ]
  },
  {
   "cell_type": "code",
   "execution_count": 10,
   "metadata": {},
   "outputs": [
    {
     "name": "stdout",
     "output_type": "stream",
     "text": [
      "welcom to our election ade\n",
      " OPPS, you are not eligible to vote\n"
     ]
    }
   ],
   "source": [
    "votingsys('ade','male',15)"
   ]
  },
  {
   "cell_type": "code",
   "execution_count": 31,
   "metadata": {},
   "outputs": [
    {
     "name": "stdout",
     "output_type": "stream",
     "text": [
      "the cost price of the article is 640.0\n"
     ]
    }
   ],
   "source": [
    "def article():\n",
    "    sp = 800\n",
    "    profit = 100/125\n",
    "    cp = sp*profit\n",
    "    print(f'the cost price of the article is {cp}')\n",
    "article()"
   ]
  },
  {
   "cell_type": "code",
   "execution_count": 30,
   "metadata": {},
   "outputs": [
    {
     "name": "stdout",
     "output_type": "stream",
     "text": [
      "the selling price of the hat is 212.5\n"
     ]
    }
   ],
   "source": [
    "def hat():\n",
    "    cp = 250\n",
    "    loss = 15/100 *( 250/1)\n",
    "    sp = cp - loss\n",
    "    print(f'the selling price of the hat is {sp}')\n",
    "hat()"
   ]
  },
  {
   "cell_type": "code",
   "execution_count": 35,
   "metadata": {},
   "outputs": [
    {
     "name": "stdout",
     "output_type": "stream",
     "text": [
      "the gain percentage is 37.5%\n"
     ]
    }
   ],
   "source": [
    "def orangesgainper():\n",
    "    cp = 40\n",
    "    sp = 55\n",
    "    gain = (sp - cp)\n",
    "    gainper = (gain/cp) * 100\n",
    "    print(f'the gain percentage is {gainper}%')\n",
    "orangesgainper()"
   ]
  },
  {
   "cell_type": "code",
   "execution_count": 36,
   "metadata": {},
   "outputs": [
    {
     "name": "stdout",
     "output_type": "stream",
     "text": [
      "<class 'tuple'>\n",
      "the average point of args is 56.07692307692308\n"
     ]
    }
   ],
   "source": [
    "def avg(*args):# nonkeyword\n",
    "    print(type(args))\n",
    "    print(f'the average point of args is {sum(args)/len(args)}')\n",
    "avg(47,58,59,85,12,35,89,78,98,10,14,55,89)"
   ]
  },
  {
   "cell_type": "code",
   "execution_count": 41,
   "metadata": {},
   "outputs": [
    {
     "name": "stdout",
     "output_type": "stream",
     "text": [
      "<class 'dict'>\n",
      "first:['simon']\n",
      "gender:male\n",
      "age:45\n"
     ]
    }
   ],
   "source": [
    "def details(**record):\n",
    "    print(type(record))\n",
    "    for key,value in record.items():\n",
    "        print(f'{key}:{value}')\n",
    "details(first = ['simon'],gender = 'male', age = 45)"
   ]
  },
  {
   "cell_type": "code",
   "execution_count": 42,
   "metadata": {},
   "outputs": [
    {
     "name": "stdout",
     "output_type": "stream",
     "text": [
      "<class 'dict'>\n",
      "first:['simon', 'john']\n",
      "gender:male\n",
      "age:45\n"
     ]
    }
   ],
   "source": [
    "def details(**record):\n",
    "    print(type(record))\n",
    "    for key,value in record.items():\n",
    "        print(f'{key}:{value}')\n",
    "details(first = ['simon','john'],gender = 'male', age = 45)"
   ]
  },
  {
   "cell_type": "code",
   "execution_count": null,
   "metadata": {},
   "outputs": [],
   "source": []
  }
 ],
 "metadata": {
  "kernelspec": {
   "display_name": "Python 3",
   "language": "python",
   "name": "python3"
  },
  "language_info": {
   "codemirror_mode": {
    "name": "ipython",
    "version": 3
   },
   "file_extension": ".py",
   "mimetype": "text/x-python",
   "name": "python",
   "nbconvert_exporter": "python",
   "pygments_lexer": "ipython3",
   "version": "3.8.5"
  }
 },
 "nbformat": 4,
 "nbformat_minor": 4
}
