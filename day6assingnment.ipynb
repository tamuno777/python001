{
 "cells": [
  {
   "cell_type": "code",
   "execution_count": 259,
   "metadata": {},
   "outputs": [
    {
     "name": "stdout",
     "output_type": "stream",
     "text": [
      "please provide your height in m:1.76\n",
      "please provide your weight in kg:70\n",
      "your BMI is:22.6\n",
      "Healthy\n"
     ]
    }
   ],
   "source": [
    "def BMI(height,weight):\n",
    "    height = float(input('please provide your height in m:'))\n",
    "    weight = float(input('please provide your weight in kg:'))\n",
    "    bmi = round(weight/(height**2),2)\n",
    "    print(f'your BMI is:{round(weight/(height**2),2)}')\n",
    "    if bmi < 18.5:\n",
    "        print(\"Underweight\") \n",
    "    elif bmi >= 18.50 and bmi <= 24.90:\n",
    "        print(\"Healthy\") \n",
    "    elif bmi >= 25.00 and bmi <= 29.90:\n",
    "        print(\"Overweight\")\n",
    "    elif bmi >=30.0:\n",
    "        print(\"Suffering from Obesity\")\n",
    "    else:\n",
    "        print(\"please reenter details\")\n",
    "BMI(height,weight)\n"
   ]
  },
  {
   "cell_type": "code",
   "execution_count": 33,
   "metadata": {},
   "outputs": [
    {
     "name": "stdout",
     "output_type": "stream",
     "text": [
      "please provide your year:2000\n",
      "2000 is a Leap Year\n"
     ]
    }
   ],
   "source": [
    "def leapyear():\n",
    "    leapyear=(int(input('please provide your year:')))\n",
    "    \n",
    "    if (leapyear%400 == 0):\n",
    "        print(\"%d is a Leap Year\" %leapyear)\n",
    "    elif (input_year%100 == 0):\n",
    "        print(\"%d is Not the Leap Year\" %leapyear)\n",
    "    elif (input_year%4 == 0):\n",
    "        print(\"%d is a Leap Year\" %leapyear)\n",
    "    else:\n",
    "        print(\"%d is Not the Leap Year\" %leapyear)\n",
    "leapyear()"
   ]
  },
  {
   "cell_type": "code",
   "execution_count": 231,
   "metadata": {},
   "outputs": [
    {
     "name": "stdout",
     "output_type": "stream",
     "text": [
      "name:sip\n",
      "serielnumber:33333\n",
      "datein:20/1/22\n",
      "quality:30\n",
      "name:fanta\n",
      "serielnumber:33718\n",
      "datein:20/1/22\n",
      "quality:344\n",
      "name:pot\n",
      "serielnumber:36782\n",
      "datein:20/1/22\n",
      "quality:58\n",
      "name:coca\n",
      "serielnumber:37402\n",
      "datein:20/1/22\n",
      "quality:400\n",
      "name:angel\n",
      "serielnumber:38832\n",
      "datein:20/1/22\n",
      "quality:482\n",
      "name:milo\n",
      "serielnumber:47281\n",
      "datein:20/1/22\n",
      "quality:90\n",
      "name:peak\n",
      "serielnumber:38492\n",
      "datein:20/1/22\n",
      "quality:305\n"
     ]
    }
   ],
   "source": [
    "def details(**sip):\n",
    "    for key,value in sip.items():\n",
    "        print(f'{key}:{value}')\n",
    "details(name = 'sip',serielnumber = 33333, datein = '20/1/22', quality =30 )\n",
    "def details(**fanta):\n",
    "    for key,value in fanta.items():\n",
    "        print(f'{key}:{value}')\n",
    "details(name = 'fanta',serielnumber = 33718, datein = '20/1/22', quality =344 )\n",
    "def details(**pot):\n",
    "    for key,value in pot.items():\n",
    "        print(f'{key}:{value}')\n",
    "details(name = 'pot',serielnumber = 36782, datein = '20/1/22', quality =58 )\n",
    "def details(**coca):\n",
    "    for key,value in coca.items():\n",
    "        print(f'{key}:{value}')\n",
    "details(name = 'coca',serielnumber = 37402, datein = '20/1/22', quality =400 )\n",
    "def details(**angel):\n",
    "    for key,value in angel.items():\n",
    "        print(f'{key}:{value}')\n",
    "details(name = 'angel',serielnumber = 38832, datein = '20/1/22', quality =482 )\n",
    "def details(**milo):\n",
    "    for key,value in milo.items():\n",
    "        print(f'{key}:{value}')\n",
    "details(name = 'milo',serielnumber = 47281, datein = '20/1/22', quality =90 )\n",
    "def details(**peak):\n",
    "    for key,value in peak.items():\n",
    "        print(f'{key}:{value}')\n",
    "details(name = 'peak',serielnumber = 38492, datein = '20/1/22', quality =305 )"
   ]
  },
  {
   "cell_type": "code",
   "execution_count": null,
   "metadata": {},
   "outputs": [],
   "source": []
  },
  {
   "cell_type": "code",
   "execution_count": null,
   "metadata": {},
   "outputs": [],
   "source": []
  },
  {
   "cell_type": "code",
   "execution_count": null,
   "metadata": {},
   "outputs": [],
   "source": []
  },
  {
   "cell_type": "code",
   "execution_count": null,
   "metadata": {},
   "outputs": [],
   "source": []
  },
  {
   "cell_type": "code",
   "execution_count": null,
   "metadata": {},
   "outputs": [],
   "source": []
  },
  {
   "cell_type": "code",
   "execution_count": null,
   "metadata": {},
   "outputs": [],
   "source": []
  }
 ],
 "metadata": {
  "kernelspec": {
   "display_name": "Python 3",
   "language": "python",
   "name": "python3"
  },
  "language_info": {
   "codemirror_mode": {
    "name": "ipython",
    "version": 3
   },
   "file_extension": ".py",
   "mimetype": "text/x-python",
   "name": "python",
   "nbconvert_exporter": "python",
   "pygments_lexer": "ipython3",
   "version": "3.8.5"
  }
 },
 "nbformat": 4,
 "nbformat_minor": 4
}
